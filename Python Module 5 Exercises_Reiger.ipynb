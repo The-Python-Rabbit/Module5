{
 "cells": [
  {
   "cell_type": "markdown",
   "metadata": {},
   "source": [
    "1. Create a dictionary named pairs with key value pairs of hello and fire, 3 and seven, strong and 45. Print out the dictionary."
   ]
  },
  {
   "cell_type": "code",
   "execution_count": 27,
   "metadata": {},
   "outputs": [
    {
     "name": "stdout",
     "output_type": "stream",
     "text": [
      "{'hello': 'fire', '3': 'seven', 'strong': 45}\n"
     ]
    }
   ],
   "source": [
    "pairs = {\"hello\":\"fire\", \"3\":\"seven\",\"strong\":45}\n",
    "print (pairs)"
   ]
  },
  {
   "cell_type": "markdown",
   "metadata": {},
   "source": [
    "2. Add welcome and 56 pair into pairs dictionary. Print out the dictionary. "
   ]
  },
  {
   "cell_type": "code",
   "execution_count": 28,
   "metadata": {},
   "outputs": [
    {
     "name": "stdout",
     "output_type": "stream",
     "text": [
      "{'hello': 'fire', '3': 'seven', 'strong': 45, 'welcome': 56}\n"
     ]
    }
   ],
   "source": [
    "pairs['welcome'] = 56\n",
    "print (pairs)"
   ]
  },
  {
   "cell_type": "markdown",
   "metadata": {},
   "source": [
    "3. Delete one item from the Dictionary. Print deleted item and the dictionary."
   ]
  },
  {
   "cell_type": "code",
   "execution_count": 29,
   "metadata": {},
   "outputs": [
    {
     "name": "stdout",
     "output_type": "stream",
     "text": [
      "{'hello': 'fire', '3': 'seven', 'strong': 45, 'welcome': 56}\n",
      "('welcome', 56)\n",
      "{'hello': 'fire', '3': 'seven', 'strong': 45}\n"
     ]
    }
   ],
   "source": [
    "print (pairs)\n",
    "del_item = pairs.popitem()\n",
    "print (del_item)\n",
    "print (pairs)"
   ]
  },
  {
   "cell_type": "markdown",
   "metadata": {},
   "source": [
    "4. Print the value of an item where key is 3 from the dicitonary"
   ]
  },
  {
   "cell_type": "code",
   "execution_count": 30,
   "metadata": {},
   "outputs": [
    {
     "name": "stdout",
     "output_type": "stream",
     "text": [
      "seven\n"
     ]
    }
   ],
   "source": [
    "print (pairs['3'])"
   ]
  },
  {
   "cell_type": "markdown",
   "metadata": {},
   "source": [
    "5. Try to find out if the key called hello exist. Print out the key is found if it is there otherwise print out the key is not there."
   ]
  },
  {
   "cell_type": "code",
   "execution_count": 32,
   "metadata": {},
   "outputs": [
    {
     "name": "stdout",
     "output_type": "stream",
     "text": [
      "the key is found\n"
     ]
    }
   ],
   "source": [
    "\n",
    "if 'hello' in pairs:\n",
    "    print (\"the key is found\")\n",
    "    pair = pairs['hello']\n",
    "else:\n",
    "    print (\"the key is  not there\")"
   ]
  },
  {
   "cell_type": "markdown",
   "metadata": {},
   "source": [
    "6. Loop through the dictionary and print out each value. "
   ]
  },
  {
   "cell_type": "code",
   "execution_count": 10,
   "metadata": {},
   "outputs": [
    {
     "name": "stdout",
     "output_type": "stream",
     "text": [
      "fire\n",
      "seven\n",
      "45\n"
     ]
    }
   ],
   "source": [
    "for pair_value in pairs.values():\n",
    "    print (pair_value)\n"
   ]
  },
  {
   "cell_type": "markdown",
   "metadata": {},
   "source": [
    "7. Loop through the dictionary and print out each key."
   ]
  },
  {
   "cell_type": "code",
   "execution_count": 11,
   "metadata": {},
   "outputs": [
    {
     "name": "stdout",
     "output_type": "stream",
     "text": [
      "hello\n",
      "3\n",
      "strong\n"
     ]
    }
   ],
   "source": [
    "for pairs_key in pairs.keys():\n",
    "    print (pairs_key)"
   ]
  },
  {
   "cell_type": "markdown",
   "metadata": {},
   "source": [
    "8. Loop through the dictionary and print out each key and value pair. "
   ]
  },
  {
   "cell_type": "code",
   "execution_count": 12,
   "metadata": {},
   "outputs": [
    {
     "name": "stdout",
     "output_type": "stream",
     "text": [
      "('hello', 'fire')\n",
      "('3', 'seven')\n",
      "('strong', 45)\n"
     ]
    }
   ],
   "source": [
    "for pairs_items in pairs.items():\n",
    "    print (pairs_items)"
   ]
  },
  {
   "cell_type": "markdown",
   "metadata": {},
   "source": [
    "9. Make a nested dictionary called parent with 2 children's information: name, age, gender. Print out parent."
   ]
  },
  {
   "cell_type": "code",
   "execution_count": 27,
   "metadata": {},
   "outputs": [
    {
     "name": "stdout",
     "output_type": "stream",
     "text": [
      "{'child1': {'name': 'Peter', 'age': '21', 'gender': 'male'}, 'child2': {'name': 'Suzie', 'age': '13', 'gender': 'female'}}\n"
     ]
    }
   ],
   "source": [
    "parent = {}\n",
    "child1 = {\"name\" : \"Peter\" , \"age\" : \"21\", \"gender\" : \"male\"}\n",
    "child2 = {\"name\" : \"Suzie\" , \"age\" : \"13\", \"gender\" : \"female\"}\n",
    "parent = {\"child1\" : child1, \"child2\" : child2}\n",
    "print (parent)"
   ]
  },
  {
   "cell_type": "markdown",
   "metadata": {},
   "source": [
    "10. Add new child to above dictionary. Print out the name of all children."
   ]
  },
  {
   "cell_type": "code",
   "execution_count": 28,
   "metadata": {},
   "outputs": [
    {
     "name": "stdout",
     "output_type": "stream",
     "text": [
      "{'child1': {'name': 'Peter', 'age': '21', 'gender': 'male'}, 'child2': {'name': 'Suzie', 'age': '13', 'gender': 'female'}}\n",
      "{'child1': {'name': 'Peter', 'age': '21', 'gender': 'male'}, 'child2': {'name': 'Suzie', 'age': '13', 'gender': 'female'}, 'child3': {'name': 'Capulet', 'age': '22', 'gender': 'male'}}\n"
     ]
    }
   ],
   "source": [
    "child3 =  {\"name\" : \"Capulet\" , \"age\" : \"22\", \"gender\" : \"male\"}\n",
    "parent[\"child3\"] =  child3\n",
    "print (parent)"
   ]
  },
  {
   "cell_type": "markdown",
   "metadata": {},
   "source": [
    "11. Create a Test Scores program that gets the name of students and test score from a user. Then, generate a list of students who passed and a list of students who failed where passing test score is 60 or above. "
   ]
  },
  {
   "cell_type": "code",
   "execution_count": 38,
   "metadata": {},
   "outputs": [
    {
     "name": "stdout",
     "output_type": "stream",
     "text": [
      "Enter name (or 'q' to quit):Joe\n",
      "Enter text score: 75\n",
      "Enter name (or 'q' to quit):Curly\n",
      "Enter text score: 55\n",
      "Enter name (or 'q' to quit):Moe\n",
      "Enter text score: 60\n",
      "Enter name (or 'q' to quit):Sam\n",
      "Enter text score: 45\n",
      "Enter name (or 'q' to quit):Peter\n",
      "Enter text score: 100\n",
      "Enter name (or 'q' to quit):q\n",
      "{'Joe': 75, 'Curly': 55, 'Moe': 60, 'Sam': 45, 'Peter': 100}\n",
      "\n",
      "Passing students:\n",
      "{'Joe': 75, 'Moe': 60, 'Peter': 100}\n",
      "\n",
      "Failing students:\n",
      "{'Curly': 55, 'Sam': 45}\n"
     ]
    }
   ],
   "source": [
    "test_scores = {}\n",
    "passing = {}\n",
    "fail = {}\n",
    "while True:\n",
    "    name = str(input(\"Enter name (or 'q' to quit):\"))\n",
    "    if name == 'q':\n",
    "        break\n",
    "    test_scores[name] = int(input(\"Enter text score: \"))\n",
    "                     \n",
    "print (test_scores)\n",
    "\n",
    "for student in test_scores:\n",
    "    if test_scores[student] >= 60:\n",
    "        passing[student] = test_scores[student]\n",
    "    else:\n",
    "        fail[student] = test_scores[student]\n",
    "        \n",
    "print (\"\\nPassing students:\")\n",
    "print (passing)\n",
    "print (\"\\nFailing students:\")\n",
    "print (fail)"
   ]
  },
  {
   "cell_type": "markdown",
   "metadata": {},
   "source": [
    "12. Create a Word Counter program that gets a string of text from a user and then counts the number of times a word occrs in the string. \n",
    "\n",
    "The output should look something like this:\n",
    "\n",
    "    The Word Counter Program\n",
    "    \n",
    "    Enter a text string: \n",
    "    Humpty Dumpty sat on a wall, Humpty Dumpty had a great fall. All the king’s horses and all the king’s men couldn’t put Humpty together again.\n",
    "\n",
    "    a : 2\n",
    "    again : 1\n",
    "    all : 2\n",
    "    and : 1\n",
    "    couldn’t : 1\n",
    "    dumpty : 2\n",
    "    fall : 1\n",
    "    great : 1\n",
    "    had : 1\n",
    "    horses : 1\n",
    "    humpty : 3\n",
    "    king’s : 2\n",
    "    men : 1\n",
    "    on : 1\n",
    "    put : 1\n",
    "    sat : 1\n",
    "    the : 2\n",
    "    together : 1\n",
    "    wall : 1\n",
    "\n",
    "    There were total 26 words in the text string   "
   ]
  },
  {
   "cell_type": "code",
   "execution_count": 34,
   "metadata": {},
   "outputs": [
    {
     "name": "stdout",
     "output_type": "stream",
     "text": [
      "This is The Word Counter Program\n",
      "\n",
      "Enter a text string:\n",
      "Humpty Dumpty sat on a wall, Humpty Dumpty had a great fall. All the king’s horses and all the king’s men couldn’t put Humpty together again.\n",
      "\n",
      "a : 2 \n",
      "again : 1 \n",
      "all : 2 \n",
      "and : 1 \n",
      "couldn’t : 1 \n",
      "dumpty : 2 \n",
      "fall : 1 \n",
      "great : 1 \n",
      "had : 1 \n",
      "horses : 1 \n",
      "humpty : 3 \n",
      "king’s : 2 \n",
      "men : 1 \n",
      "on : 1 \n",
      "put : 1 \n",
      "sat : 1 \n",
      "the : 2 \n",
      "together : 1 \n",
      "wall : 1 \n",
      "\n",
      "There were 26 words in the text string\n"
     ]
    }
   ],
   "source": [
    "# Initialize varaibles\n",
    "\n",
    "new_split=[]\n",
    "Dict_split = {}\n",
    "counter = 0\n",
    "#i1 = 0\n",
    "text_string=\"\"\n",
    "\n",
    "print (\"This is The Word Counter Program\\n\")\n",
    "\n",
    "# Get text string and convert to lowercase letters to match example\n",
    "\n",
    "text_string1 = str.lower(input(\"Enter a text string:\\n\"))\n",
    "#print (text_string)\n",
    "\n",
    "# Remove commas, periods, colons, semi-colons\n",
    "\n",
    "for char in text_string1:\n",
    "    if char == \".\" or char == \",\":\n",
    "        continue\n",
    "    if char == \":\" or char == \";\":\n",
    "        continue\n",
    "    else:\n",
    "        text_string = text_string + char\n",
    "          \n",
    "# Remove spaces and create list\n",
    "\n",
    "text_split = text_string.split(' ')\n",
    "\n",
    "# Sort alphabetically\n",
    "\n",
    "text_split.sort()\n",
    "\n",
    "# Remove any remaining spaces and store words in initial dictionary\n",
    "\n",
    "for counter in range(0,len(text_split)):\n",
    "    if text_split[counter] != '':\n",
    "        Dict_split[i1]= text_split[counter]\n",
    "        i1+=1\n",
    "        \n",
    "total_words = len(Dict_split)      \n",
    "\n",
    "# Create dictionary to store word counts\n",
    "\n",
    "word_count ={}\n",
    "\n",
    "print()\n",
    "for value in Dict_split.values():\n",
    "    if value in word_count:\n",
    "        word_count[value] +=1\n",
    "    else:\n",
    "        word_count[value] = 1\n",
    "\n",
    "for key, value in word_count.items():\n",
    "    print(f\"{key} : {value} \")\n",
    "print (f\"\\nThere were {total_words} words in the text string\")\n"
   ]
  },
  {
   "cell_type": "code",
   "execution_count": null,
   "metadata": {},
   "outputs": [],
   "source": []
  }
 ],
 "metadata": {
  "kernelspec": {
   "display_name": "Python 3",
   "language": "python",
   "name": "python3"
  },
  "language_info": {
   "codemirror_mode": {
    "name": "ipython",
    "version": 3
   },
   "file_extension": ".py",
   "mimetype": "text/x-python",
   "name": "python",
   "nbconvert_exporter": "python",
   "pygments_lexer": "ipython3",
   "version": "3.8.8"
  }
 },
 "nbformat": 4,
 "nbformat_minor": 4
}
